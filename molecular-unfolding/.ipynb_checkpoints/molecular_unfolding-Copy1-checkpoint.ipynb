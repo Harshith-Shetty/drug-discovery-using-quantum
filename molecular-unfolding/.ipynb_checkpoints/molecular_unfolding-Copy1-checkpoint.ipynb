{
 "cells": [
  {
   "cell_type": "markdown",
   "id": "1bd7c5db",
   "metadata": {},
   "source": [
    "# DRUG DISCOVERY USING QUANTUM COMPUTING"
   ]
  },
  {
   "cell_type": "markdown",
   "id": "2fa7cab1",
   "metadata": {},
   "source": [
    "# Step 0 : Import Packages"
   ]
  },
  {
   "cell_type": "code",
   "execution_count": 1,
   "id": "619e5354",
   "metadata": {},
   "outputs": [
    {
     "name": "stderr",
     "output_type": "stream",
     "text": [
      "2022-11-12 14:46:53,018 dwave.cloud INFO MainThread Log level for 'dwave.cloud' namespace set to 0\n"
     ]
    }
   ],
   "source": [
    "from utility.MoleculeParser import MoleculeData\n",
    "from utility.QMUQUBO import QMUQUBO\n",
    "from utility.AnnealerOptimizer import Annealer\n",
    "from utility.ResultProcess import ResultParser\n",
    "import time\n",
    "timestamp = time.strftime(\"%Y%m%d-%H\")"
   ]
  },
  {
   "cell_type": "markdown",
   "id": "f3b074fe",
   "metadata": {},
   "source": [
    "# Step 1: Prepare Molecular Data"
   ]
  },
  {
   "cell_type": "code",
   "execution_count": 2,
   "id": "ea463bf5",
   "metadata": {},
   "outputs": [],
   "source": [
    "s3_bucket = f\"amazon-braket-qceddstack-416584524924-us-west-2\" \n",
    "prefix = \"Qresults\"\n",
    "raw_path = './molecule-data/STI_ideal.mol2'"
   ]
  },
  {
   "cell_type": "code",
   "execution_count": 3,
   "id": "85803f23",
   "metadata": {},
   "outputs": [
    {
     "name": "stderr",
     "output_type": "stream",
     "text": [
      "INFO:root:parse mol2 file!\n",
      "INFO:root:finish save qmu_STI_ideal_data_latest.pickle\n"
     ]
    },
    {
     "name": "stdout",
     "output_type": "stream",
     "text": [
      "You have loaded the raw molecule data and saved as ./qmu_STI_ideal_data_latest.pickle. \n",
      "This molecule has 16 rotable bond\n"
     ]
    }
   ],
   "source": [
    "mol_data = MoleculeData(raw_path, 'qmu')\n",
    "data_path = mol_data.save(\"latest\")\n",
    "num_rotation_bond = mol_data.bond_graph.rb_num\n",
    "print(f\"You have loaded the raw molecule data and saved as {data_path}. \\n\\\n",
    "This molecule has {num_rotation_bond} rotable bond\")"
   ]
  },
  {
   "cell_type": "markdown",
   "id": "28e51f1e",
   "metadata": {},
   "source": [
    "# Step 2: Build Model"
   ]
  },
  {
   "cell_type": "markdown",
   "id": "e37b196d",
   "metadata": {},
   "source": [
    "| Parameter | Description | Value |\n",
    "|--- |--- |--- |\n",
    "|M | number of torsions for molecular unfolding| [1, max number of rotatable bonds] |\n",
    "|D| angle precision of rotation| 8|"
   ]
  },
  {
   "cell_type": "code",
   "execution_count": 4,
   "id": "2f765917",
   "metadata": {},
   "outputs": [
    {
     "name": "stderr",
     "output_type": "stream",
     "text": [
      "INFO:root:initial pre-calculate for constructing molecule QUBO\n"
     ]
    }
   ],
   "source": [
    "init_param = {}\n",
    "method = ['pre-calc']\n",
    "\n",
    "for mt in method:\n",
    "    if mt == 'pre-calc':\n",
    "        init_param[mt] = {}\n",
    "        init_param[mt]['param'] = ['M', 'D', 'A', 'hubo_qubo_val']\n",
    "    \n",
    "qmu_qubo = QMUQUBO(mol_data, method, **init_param)"
   ]
  },
  {
   "cell_type": "code",
   "execution_count": 5,
   "id": "b0f6815d",
   "metadata": {},
   "outputs": [
    {
     "name": "stderr",
     "output_type": "stream",
     "text": [
      "INFO:root:Construct model for M:2,D:8,A:300,hubo_qubo_val:200 0.0010312398274739583 min\n"
     ]
    },
    {
     "data": {
      "text/plain": [
       "0"
      ]
     },
     "execution_count": 5,
     "metadata": {},
     "output_type": "execute_result"
    }
   ],
   "source": [
    "model_param = {}\n",
    "num_rotation_bond = mol_data.bond_graph.rb_num\n",
    "method = 'pre-calc'\n",
    "model_param[method] = {}\n",
    "model_param[method]['M'] = [2]\n",
    "model_param[method]['D'] = [8]\n",
    "model_param[method]['A'] = [300]\n",
    "model_param[method]['hubo_qubo_val'] = [200]\n",
    "qmu_qubo.build_model(**model_param)"
   ]
  },
  {
   "cell_type": "code",
   "execution_count": 6,
   "id": "4b9e2901",
   "metadata": {},
   "outputs": [
    {
     "name": "stderr",
     "output_type": "stream",
     "text": [
      "INFO:root:method: pre-calc\n",
      "INFO:root:The model_name should be {M}_{D}_{A}_{hubo_qubo_val}\n",
      "INFO:root:param: M, value {2}\n",
      "INFO:root:param: D, value {8}\n",
      "INFO:root:param: A, value {300}\n",
      "INFO:root:param: hubo_qubo_val, value {200}\n"
     ]
    }
   ],
   "source": [
    "# describe the model parameters\n",
    "model_info = qmu_qubo.describe_model()"
   ]
  },
  {
   "cell_type": "code",
   "execution_count": 12,
   "id": "0d77d174",
   "metadata": {},
   "outputs": [
    {
     "name": "stderr",
     "output_type": "stream",
     "text": [
      "INFO:root:finish save qmu_STI_ideal_model_latest.pickle\n"
     ]
    },
    {
     "name": "stdout",
     "output_type": "stream",
     "text": [
      "You have built the QUBO model and saved it as ./qmu_STI_ideal_model_latest.pickle\n"
     ]
    }
   ],
   "source": [
    "# save the model\n",
    "model_path = qmu_qubo.save(\"latest\")\n",
    "\n",
    "print(f\"You have built the QUBO model and saved it as {model_path}\")"
   ]
  },
  {
   "cell_type": "markdown",
   "id": "2c51c31b",
   "metadata": {},
   "source": [
    "# Step 3: Optimize Configuration"
   ]
  },
  {
   "cell_type": "code",
   "execution_count": 13,
   "id": "f70be46e",
   "metadata": {},
   "outputs": [],
   "source": [
    "qmu_qubo_optimize = QMUQUBO.load(model_path)"
   ]
  },
  {
   "cell_type": "code",
   "execution_count": 14,
   "id": "5c22e13a",
   "metadata": {},
   "outputs": [
    {
     "name": "stderr",
     "output_type": "stream",
     "text": [
      "INFO:root:method: pre-calc\n",
      "INFO:root:The model_name should be {M}_{D}_{A}_{hubo_qubo_val}\n",
      "INFO:root:param: M, value {2}\n",
      "INFO:root:param: D, value {8}\n",
      "INFO:root:param: A, value {300}\n",
      "INFO:root:param: hubo_qubo_val, value {200}\n"
     ]
    }
   ],
   "source": [
    "model_info = qmu_qubo_optimize.describe_model()"
   ]
  },
  {
   "cell_type": "code",
   "execution_count": 15,
   "id": "18c64a6a",
   "metadata": {},
   "outputs": [],
   "source": [
    "# get the model you want to optimize\n",
    "M = 2\n",
    "D = 8\n",
    "A = 300\n",
    "hubo_qubo_val = 200\n",
    "model_name = \"{}_{}_{}_{}\".format(M, D, A, hubo_qubo_val)\n",
    "method = \"pre-calc\"\n",
    "\n",
    "qubo_model = qmu_qubo_optimize.get_model(method, model_name)"
   ]
  },
  {
   "cell_type": "markdown",
   "id": "b8b043bc",
   "metadata": {},
   "source": [
    "# Simulated annealing"
   ]
  },
  {
   "cell_type": "code",
   "execution_count": 16,
   "id": "62651acf",
   "metadata": {},
   "outputs": [
    {
     "name": "stderr",
     "output_type": "stream",
     "text": [
      "INFO:root:use simulated annealer from dimod\n"
     ]
    }
   ],
   "source": [
    "method = 'dwave-sa'\n",
    "\n",
    "optimizer_param = {}\n",
    "optimizer_param['shots'] = 1000\n",
    "\n",
    "sa_optimizer = Annealer(qubo_model, method, **optimizer_param)"
   ]
  },
  {
   "cell_type": "code",
   "execution_count": null,
   "id": "e5c4afd6",
   "metadata": {},
   "outputs": [
    {
     "name": "stderr",
     "output_type": "stream",
     "text": [
      "INFO:root:fit() ...\n"
     ]
    }
   ],
   "source": [
    "sa_optimize_result = sa_optimizer.fit()"
   ]
  },
  {
   "cell_type": "markdown",
   "id": "688b09f6",
   "metadata": {},
   "source": [
    "# Quantum annealing"
   ]
  },
  {
   "cell_type": "code",
   "execution_count": null,
   "id": "cd085fb0",
   "metadata": {},
   "outputs": [],
   "source": [
    "method = 'dwave-qa'\n",
    "\n",
    "optimizer_param = {}\n",
    "optimizer_param['shots'] = 1000\n",
    "optimizer_param['bucket'] = s3_bucket # the name of the bucket\n",
    "optimizer_param['prefix'] = prefix # the name of the folder in the bucket\n",
    "optimizer_param['device'] = \"arn:aws:braket:::device/qpu/d-wave/DW_2000Q_6\"\n",
    "optimizer_param[\"embed_method\"] = \"default\"\n",
    "\n",
    "qa_optimizer = Annealer(qubo_model, method, **optimizer_param)"
   ]
  },
  {
   "cell_type": "code",
   "execution_count": null,
   "id": "5f648650",
   "metadata": {},
   "outputs": [],
   "source": [
    "# not create annealing task, only embedding logic\n",
    "qa_optimizer.embed()\n",
    "# create annealing task\n",
    "qa_optimize_result = qa_optimizer.fit()"
   ]
  },
  {
   "cell_type": "code",
   "execution_count": null,
   "id": "7a0d30fe",
   "metadata": {},
   "outputs": [],
   "source": [
    "qa_task_id = qa_optimizer.get_task_id()\n",
    "print(f\"task id is {qa_task_id}\")"
   ]
  },
  {
   "cell_type": "markdown",
   "id": "984c75b8",
   "metadata": {},
   "source": [
    "Finally, we can compare the execution time between SA and QA :"
   ]
  },
  {
   "cell_type": "code",
   "execution_count": null,
   "id": "db6f68a5",
   "metadata": {},
   "outputs": [],
   "source": [
    "print(f\"dwave-sa run time {sa_optimize_result['time']}\")\n",
    "print(f\"dwave-qa run time {qa_optimize_result['time']}\")"
   ]
  },
  {
   "cell_type": "markdown",
   "id": "ec65184c",
   "metadata": {},
   "source": [
    "# Step 4: PostProcess Result"
   ]
  },
  {
   "cell_type": "code",
   "execution_count": null,
   "id": "4740edba",
   "metadata": {},
   "outputs": [],
   "source": [
    "method = \"dwave-sa\"\n",
    "sa_param = {}\n",
    "sa_param[\"raw_path\"] = raw_path\n",
    "sa_param[\"data_path\"] = data_path\n",
    "\n",
    "sa_process_result = ResultParser(method, **sa_param)\n",
    "# print(f\"{method} result is {sa_process_result.get_all_result()}\")\n",
    "\n",
    "local_time, _ , _, _= sa_process_result.get_time()\n",
    "\n",
    "print(f\"time for {method}: \\n \\\n",
    "    local time is {local_time}\")"
   ]
  },
  {
   "cell_type": "code",
   "execution_count": null,
   "id": "a02f8023",
   "metadata": {},
   "outputs": [],
   "source": [
    "sa_atom_pos_data = sa_process_result.generate_optimize_pts()\n",
    "# save unfold file for visualization and parameters for experiment: 1. volume value 2. relative improvement\n",
    "sa_result_filepath, sa_result_json = sa_process_result.save_mol_file(f\"{timestamp}\")\n",
    "\n",
    "print(f\"result path is {sa_result_filepath}, and result optimization file path is {sa_result_json}\")"
   ]
  },
  {
   "cell_type": "code",
   "execution_count": null,
   "id": "f88fa40a",
   "metadata": {},
   "outputs": [],
   "source": [
    "sa_process_result.parameters"
   ]
  },
  {
   "cell_type": "code",
   "execution_count": null,
   "id": "6bacbabf",
   "metadata": {},
   "outputs": [],
   "source": [
    "method = \"dwave-qa\"\n",
    "qa_param = {}\n",
    "qa_param[\"bucket\"] = s3_bucket\n",
    "qa_param[\"prefix\"] = prefix\n",
    "qa_param[\"task_id\"] = qa_task_id\n",
    "qa_param[\"raw_path\"] = raw_path\n",
    "qa_param[\"data_path\"] = data_path\n",
    "\n",
    "qa_process_result = ResultParser(method, **qa_param)\n",
    "# print(f\"{method} result is {qa_process_result.get_all_result()}\")\n",
    "\n",
    "local_time, task_time, total_time, access_time = qa_process_result.get_time()\n",
    "\n",
    "print(f\"time for {method}: \\n \\\n",
    "    local time is {local_time},\\n \\\n",
    "    task time is {task_time}, \\n \\\n",
    "    qpu total time is {total_time}, \\n \\\n",
    "    qpu access time is {access_time}\")"
   ]
  },
  {
   "cell_type": "code",
   "execution_count": null,
   "id": "c93ed206",
   "metadata": {},
   "outputs": [],
   "source": [
    "qa_atom_pos_data = qa_process_result.generate_optimize_pts()\n",
    "# save unfold file for visualization and parameters for experiment: 1. volume value 2. relative improvement\n",
    "qa_result_filepath, qa_result_json = qa_process_result.save_mol_file(f\"{timestamp}\")\n",
    "print(f\"result path is {qa_result_filepath}, and result optimization file path is {qa_result_json}\")"
   ]
  },
  {
   "cell_type": "code",
   "execution_count": null,
   "id": "ae36eac6",
   "metadata": {},
   "outputs": [],
   "source": [
    "qa_process_result.parameters"
   ]
  },
  {
   "cell_type": "code",
   "execution_count": null,
   "id": "3696ce6f",
   "metadata": {},
   "outputs": [],
   "source": [
    "# this shows the original molecule\n",
    "qa_process_result.InteractView(raw_path, size=800)"
   ]
  },
  {
   "cell_type": "code",
   "execution_count": null,
   "id": "11edcca9",
   "metadata": {},
   "outputs": [],
   "source": [
    "# copy the variable for the path of unfolding molecule, we can see the unfolding results. this also works for sa_process_result.\n",
    "qa_process_result.InteractView(qa_result_filepath, size=800)"
   ]
  }
 ],
 "metadata": {
  "interpreter": {
   "hash": "18f113ef20d2e5656a0bc837e6c476bd436e29840b6ed1847ecdb90743164c58"
  },
  "kernelspec": {
   "display_name": "qcenv",
   "language": "python",
   "name": "qcenv"
  },
  "language_info": {
   "codemirror_mode": {
    "name": "ipython",
    "version": 3
   },
   "file_extension": ".py",
   "mimetype": "text/x-python",
   "name": "python",
   "nbconvert_exporter": "python",
   "pygments_lexer": "ipython3",
   "version": "3.7.10"
  }
 },
 "nbformat": 4,
 "nbformat_minor": 5
}
